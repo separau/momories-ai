{
 "cells": [
  {
   "cell_type": "markdown",
   "id": "fb524c23",
   "metadata": {},
   "source": [
    "# 🌸 Momories-AI\n",
    "Create a personalized AI memory book for Mother’s Day."
   ]
  },
  {
   "cell_type": "markdown",
   "id": "08600570",
   "metadata": {},
   "source": [
    "## 1. Install required libraries"
   ]
  },
  {
   "cell_type": "code",
   "execution_count": null,
   "id": "e485f7c3",
   "metadata": {},
   "outputs": [],
   "source": [
    "!pip install openai gtts fpdf Pillow"
   ]
  },
  {
   "cell_type": "markdown",
   "id": "fac09758",
   "metadata": {},
   "source": [
    "## 2. Import functions"
   ]
  },
  {
   "cell_type": "code",
   "execution_count": null,
   "id": "4cb358d6",
   "metadata": {},
   "outputs": [],
   "source": [
    "from scripts.generate_letter import generate_letter\n",
    "from scripts.generate_audio import generate_audio\n",
    "from scripts.generate_album import stylize_photo\n",
    "from scripts.export_pdf import export_pdf\n",
    "import os\n"
   ]
  },
  {
   "cell_type": "markdown",
   "id": "2b8375dd",
   "metadata": {},
   "source": [
    "## 3. Generate a personalized letter"
   ]
  },
  {
   "cell_type": "code",
   "execution_count": null,
   "id": "4812ae79",
   "metadata": {},
   "outputs": [],
   "source": [
    "letter = generate_letter(name=\"Mom\")\n",
    "print(letter)\n"
   ]
  },
  {
   "cell_type": "markdown",
   "id": "0b918dcb",
   "metadata": {},
   "source": [
    "## 4. Generate voice narration"
   ]
  },
  {
   "cell_type": "code",
   "execution_count": null,
   "id": "37481e73",
   "metadata": {},
   "outputs": [],
   "source": [
    "generate_audio(letter, output_path=\"export/momories_audio.mp3\")\n"
   ]
  },
  {
   "cell_type": "markdown",
   "id": "d54445b9",
   "metadata": {},
   "source": [
    "## 5. Stylize photos for the memory album"
   ]
  },
  {
   "cell_type": "code",
   "execution_count": null,
   "id": "8f9241a3",
   "metadata": {},
   "outputs": [],
   "source": [
    "input_photo = \"assets/mom_photo.jpg\"  # Replace with your own photo\n",
    "stylize_photo(input_photo, output_path=\"export/stylized_photo.jpg\")\n"
   ]
  },
  {
   "cell_type": "markdown",
   "id": "4a13a88a",
   "metadata": {},
   "source": [
    "## 6. Export everything to a PDF book"
   ]
  },
  {
   "cell_type": "code",
   "execution_count": null,
   "id": "6fd8a0d8",
   "metadata": {},
   "outputs": [],
   "source": [
    "image_paths = [\"export/stylized_photo.jpg\"]\n",
    "export_pdf(letter, image_paths, output_path=\"export/momories_book.pdf\")\n",
    "print(\"📘 Memory book generated!\")\n"
   ]
  },
  {
   "cell_type": "markdown",
   "id": "b52c2cf9",
   "metadata": {},
   "source": [
    "## ✅ Done! Check the 'export' folder for your audio and PDF memory book."
   ]
  }
 ],
 "metadata": {},
 "nbformat": 4,
 "nbformat_minor": 5
}
